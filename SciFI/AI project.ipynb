{
 "cells": [
  {
   "cell_type": "code",
   "execution_count": 1,
   "id": "d6963199",
   "metadata": {},
   "outputs": [],
   "source": [
    "import os\n",
    "import time\n",
    "import subprocess\n",
    "import json\n"
   ]
  },
  {
   "cell_type": "code",
   "execution_count": 2,
   "id": "9896ec0d",
   "metadata": {},
   "outputs": [],
   "source": [
    "import wolframalpha\n",
    "import requests\n",
    "import webbrowser\n",
    "import wikipedia\n",
    "import datetime"
   ]
  },
  {
   "cell_type": "code",
   "execution_count": 3,
   "id": "67958dc8",
   "metadata": {},
   "outputs": [],
   "source": [
    "import speech_recognition as sr\n",
    "import pyttsx3"
   ]
  },
  {
   "cell_type": "code",
   "execution_count": 4,
   "id": "b0986615",
   "metadata": {},
   "outputs": [
    {
     "name": "stdout",
     "output_type": "stream",
     "text": [
      "LOADING YOUR PERSONAL A.I ASSITANT BEN\n"
     ]
    }
   ],
   "source": [
    "\n",
    "print(\"LOADING YOUR PERSONAL A.I ASSITANT BEN\")"
   ]
  },
  {
   "cell_type": "code",
   "execution_count": 5,
   "id": "e864042f",
   "metadata": {},
   "outputs": [],
   "source": [
    "engine = pyttsx3.init('sapi5')\n",
    "voices = engine.getProperty('voices')\n",
    "engine.setProperty(\"voice\",\"voices[0].id\")"
   ]
  },
  {
   "cell_type": "code",
   "execution_count": 6,
   "id": "12fa8ca4",
   "metadata": {},
   "outputs": [],
   "source": [
    "def speak(text):\n",
    "    engine.say(text)\n",
    "    engine.runAndWait()"
   ]
  },
  {
   "cell_type": "code",
   "execution_count": 8,
   "id": "db3e334c",
   "metadata": {},
   "outputs": [],
   "source": [
    "def wishMe():\n",
    "    hour = datetime.datetime.now().hour\n",
    "    if hour >= 0 and hour < 12:\n",
    "        speak(\"Hello, good morning Ms.Alaina\")\n",
    "        print(\"Hello, good morning Ms.Alaina\")\n",
    "    elif hour >=12 and hour <=18:\n",
    "        speak(\"Hello, Good afternoon Ms.Alaina\")\n",
    "        print(\"Hello, Good afternoon Ms.Alaina\")\n",
    "    else:\n",
    "        speak(\"Its already night better go to bed!\")\n",
    "        print(\"Its already night better go to bed!\")"
   ]
  },
  {
   "cell_type": "code",
   "execution_count": 9,
   "id": "5382fd56",
   "metadata": {},
   "outputs": [],
   "source": [
    "def takeCommand():\n",
    "    r = sr.Recognizer()\n",
    "    with sr.Microphone() as source:\n",
    "        print(\"I AM LISTENING\")\n",
    "        audio = r.listen(source)\n",
    "        \n",
    "        try:\n",
    "            statement = r.recognize_google(audio, language='en-in')\n",
    "            print(f\"user said:{statement}\\n\")\n",
    "        except Exception as e:\n",
    "            speak(\"pardon me, please say that again\")\n",
    "            return \"None\"\n",
    "        return statement"
   ]
  },
  {
   "cell_type": "code",
   "execution_count": 10,
   "id": "65573725",
   "metadata": {},
   "outputs": [
    {
     "name": "stdout",
     "output_type": "stream",
     "text": [
      "Its already night better go to bed!\n"
     ]
    }
   ],
   "source": [
    "speak(\"Loading YOUR PERSONAL AI ASSISTANT BEN\")\n",
    "wishMe()\n"
   ]
  },
  {
   "cell_type": "code",
   "execution_count": null,
   "id": "6d60b9c5",
   "metadata": {},
   "outputs": [],
   "source": [
    "if __name__ == '__main__':\n",
    "    while True:\n",
    "        speak(\"yes how can I help you??\")\n",
    "        statement = takeCommand().lower()\n",
    "        if statement == 0:\n",
    "            continue\n",
    "        if \"good bye\" in statement or \"okay bye\" in statement or \"stop\" in statement:\n",
    "            speak(\"Your personal AI assistant ben is shutting down\")\n",
    "            print(\"Your personal AI assistant ben is shutting down\")\n",
    "            break\n",
    "        if 'wikipedia' in statement:\n",
    "            speak(\"searching wikipedia .........\")\n",
    "            statement = statement.replace('wikipedia',\" \")\n",
    "            results = wikipedia.summary(statement,nsentences = 3)\n",
    "            speak(\"Accoding to wikipedia....\")\n",
    "            print(results)\n",
    "            speak(results)\n",
    "        elif \"open youtube\" in statement:\n",
    "            webbrowser.open_new_tab(\"https://www.youtube.com\")\n",
    "            speak(\"Youtube is open for you\")\n",
    "            time.sleep(5)\n",
    "        \n",
    "        elif \"open google\" in statement:\n",
    "            webbrowser.open_new_tab(\"https://www.google.com\")\n",
    "            speak(\"Google is open for you\")\n",
    "            time.sleep(5)\n",
    "        \n",
    "        elif \"open gmail\" in statement:\n",
    "            webbrowser.open_new_tab(\"https://www.gmail.com\")\n",
    "            speak(\"Gmail is open for you\")\n",
    "            time.sleep(5)\n",
    "        elif  \"weather\" in statement:\n",
    "            api_key =' 8ef61edcf1c576d65d836254e11ea420'\n",
    "            base_url ='https://api.openweathermap.org/data/2.5/weather?”'\n",
    "            speak(\"Whats the city name\")\n",
    "            city_name = takeCommand()\n",
    "            complete_url = base_url+\"appid=\"+api_keys+\"&q=\"+city_name\n",
    "            response = requests.get(complete_url)\n",
    "            x = response.json()\n",
    "            if x[\"cod\"] != \"404\":\n",
    "                y = x[\"main\"]\n",
    "                current_temperature = y[\"temp\"]\n",
    "                current_humidity = y[\"humidity\"]\n",
    "                z = x[\"weather\"]\n",
    "                weather_description = z[0]['description']\n",
    "                speak(\" The temperature in kelvin units is \"+ str(current_temperature) + \"\\n humidity in percentage is \"+ str(current_humidity)+\"\\n weather description\" + str(weather_description))      \n",
    "                print(\" The temperature in kelvin units is \"+ str(current_temperature)+\"\\n humidity in percentage is\"+ str(current_humidity)+\"\\n weather description\" + str(weather_description))\n",
    "            else:\n",
    "                speak(\"city not found\")\n",
    "                print(\"city not found\")\n",
    "        elif \"time\" in statement:\n",
    "            strTime=datetime.datetime.now().strftime(\"%H:%M:%S\")\n",
    "            speak(f\"The time is {strTime}\")\n",
    "        elif \"who are you\" in statement or \"what can you do\" in statement:\n",
    "            speak('I am BEN version 1 point O your personal assistant. I am programmed to minor tasks like' 'opening youtube,chrome, gamil and stack overflow, predict time,take photo, search wikipedia, predict weather'\n",
    "                'in different cities, get top headline news from times of india and you can ask me computational questions')\n",
    "        elif \"who made you\" in statement or \"who created you\" in statement or \"who discovered you\" in statement:\n",
    "            speak(\"I WAS BUILT BY AN ENGINEERING STUDENT\")\n",
    "            print(\"I WAS BUILT BY AN ENGINEERING STUDENT\")\n",
    "        elif \"open stack overflow\" in statement:\n",
    "            webbrowser.open_new_tab(\"httpd://stackoverflow.com/login\")\n",
    "            time.sleep(5)\n",
    "        elif \"news\" in statement:\n",
    "            news = webbrowser.open_new_tab(\"https://timesofindia.com/home/headlines\")\n",
    "            speak(\"here is some top news from times of india\")\n",
    "            times.sleep(7)\n",
    "        elif \"search\" in statement:\n",
    "            statement = statement.replace(\"search\",\" \")\n",
    "            webbrowser.open_new_tab('statement')\n",
    "            time.sleep(5)\n",
    "            \n",
    "                      \n",
    "        elif \"ask\" in statement:\n",
    "            speak(\"I can answer to computational and geographical too just try me!! what do you want to ask\")\n",
    "            question = takeCommand()\n",
    "            app_id=\"R2K75H-7ELALHR35X\"\n",
    "            client = wolframalpha.CLient(\"R2K75H-7ELALHR35X\")\n",
    "            res = client.query(question)\n",
    "            answer = next(res.results).text\n",
    "            speak(answer)\n",
    "            print(answer)\n",
    "        elif \"log off\" in statement or \"sign out\" in statement or \"shut down\" in statement:\n",
    "            speak(\"ok Your PC will shut down in 10 seconds- make sure you have saved  and exit from all applications\")\n",
    "            subprocess.call(['shutdown',\"/l\"])\n",
    "time.sleep(3)\n",
    "                      \n",
    "\n",
    "        \n",
    "                      \n",
    "                      \n",
    "                                                        "
   ]
  },
  {
   "cell_type": "code",
   "execution_count": null,
   "id": "f1c83cac",
   "metadata": {},
   "outputs": [],
   "source": [
    "# def __exit__(self, exc_type, exc_value, traceback):\n",
    "#      try:\n",
    "#         self.stream.close()\n",
    "#     finally:\n",
    "#         self.stream = None\n",
    "# try:\n",
    "#     if not self.pyaudio_stream.is_stopped():\n",
    "#         self.pyaudio_stream.stop_stream()\n",
    "# finally:\n",
    "#     return pa.is_stream_stopped(self._stream)"
   ]
  },
  {
   "cell_type": "code",
   "execution_count": null,
   "id": "93f64ae2",
   "metadata": {},
   "outputs": [],
   "source": []
  },
  {
   "cell_type": "code",
   "execution_count": null,
   "id": "a163189a",
   "metadata": {},
   "outputs": [],
   "source": []
  }
 ],
 "metadata": {
  "kernelspec": {
   "display_name": "Python 3 (ipykernel)",
   "language": "python",
   "name": "python3"
  },
  "language_info": {
   "codemirror_mode": {
    "name": "ipython",
    "version": 3
   },
   "file_extension": ".py",
   "mimetype": "text/x-python",
   "name": "python",
   "nbconvert_exporter": "python",
   "pygments_lexer": "ipython3",
   "version": "3.9.13"
  }
 },
 "nbformat": 4,
 "nbformat_minor": 5
}
